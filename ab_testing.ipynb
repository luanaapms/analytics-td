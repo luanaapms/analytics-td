{
  "nbformat": 4,
  "nbformat_minor": 0,
  "metadata": {
    "colab": {
      "provenance": [],
      "authorship_tag": "ABX9TyPxT7TCZPsGVwL01mJ0LJPd",
      "include_colab_link": true
    },
    "kernelspec": {
      "name": "python3",
      "display_name": "Python 3"
    },
    "language_info": {
      "name": "python"
    }
  },
  "cells": [
    {
      "cell_type": "markdown",
      "metadata": {
        "id": "view-in-github",
        "colab_type": "text"
      },
      "source": [
        "<a href=\"https://colab.research.google.com/github/luanaapms/analytics-td/blob/main/ab_testing.ipynb\" target=\"_parent\"><img src=\"https://colab.research.google.com/assets/colab-badge.svg\" alt=\"Open In Colab\"/></a>"
      ]
    },
    {
      "cell_type": "markdown",
      "source": [
        "#A/B TESTING\n"
      ],
      "metadata": {
        "id": "oBNZCuGXyyYg"
      }
    },
    {
      "cell_type": "markdown",
      "source": [
        "## Configurações de Ambiente"
      ],
      "metadata": {
        "id": "FHV8Tz-My3qP"
      }
    },
    {
      "cell_type": "code",
      "execution_count": null,
      "metadata": {
        "colab": {
          "base_uri": "https://localhost:8080/"
        },
        "id": "9sLmw5dxyo9U",
        "outputId": "3ebf4df9-4d20-4b0f-d2ec-e4e029f9b197"
      },
      "outputs": [
        {
          "output_type": "stream",
          "name": "stdout",
          "text": [
            "Requirement already satisfied: pyspark in /usr/local/lib/python3.12/dist-packages (3.5.1)\n",
            "Requirement already satisfied: py4j==0.10.9.7 in /usr/local/lib/python3.12/dist-packages (from pyspark) (0.10.9.7)\n"
          ]
        }
      ],
      "source": [
        "!pip install pyspark\n",
        "from pyspark.sql import SparkSession\n",
        "\n",
        "spark = SparkSession.builder \\\n",
        "    .appName(\"ABtesting\") \\\n",
        "    .getOrCreate()"
      ]
    },
    {
      "cell_type": "code",
      "source": [
        "import kagglehub\n",
        "\n",
        "path = kagglehub.dataset_download(\"faviovaz/marketing-ab-testing\")\n",
        "\n",
        "print(\"Path to dataset files:\", path)"
      ],
      "metadata": {
        "colab": {
          "base_uri": "https://localhost:8080/"
        },
        "id": "wv8uEe-DzBT7",
        "outputId": "2174353a-8af4-4455-e046-65ff541a1ab5"
      },
      "execution_count": null,
      "outputs": [
        {
          "output_type": "stream",
          "name": "stdout",
          "text": [
            "Warning: Looks like you're using an outdated `kagglehub` version (installed: 0.3.12), please consider upgrading to the latest version (0.3.13).\n",
            "Downloading from https://www.kaggle.com/api/v1/datasets/download/faviovaz/marketing-ab-testing?dataset_version_number=1...\n"
          ]
        },
        {
          "output_type": "stream",
          "name": "stderr",
          "text": [
            "100%|██████████| 5.23M/5.23M [00:00<00:00, 116MB/s]"
          ]
        },
        {
          "output_type": "stream",
          "name": "stdout",
          "text": [
            "Extracting files...\n"
          ]
        },
        {
          "output_type": "stream",
          "name": "stderr",
          "text": [
            "\n"
          ]
        },
        {
          "output_type": "stream",
          "name": "stdout",
          "text": [
            "Path to dataset files: /root/.cache/kagglehub/datasets/faviovaz/marketing-ab-testing/versions/1\n"
          ]
        }
      ]
    },
    {
      "cell_type": "code",
      "source": [
        "# dataset\n",
        "df = spark.read.csv(path + '/marketing_AB.csv', inferSchema = True, header = True)\n",
        "df.show(5)"
      ],
      "metadata": {
        "colab": {
          "base_uri": "https://localhost:8080/"
        },
        "id": "vjZHy4yGzHSg",
        "outputId": "1f4014b3-5319-4500-f567-6a5b33c60b58"
      },
      "execution_count": null,
      "outputs": [
        {
          "output_type": "stream",
          "name": "stdout",
          "text": [
            "+---+-------+----------+---------+---------+------------+-------------+\n",
            "|_c0|user id|test group|converted|total ads|most ads day|most ads hour|\n",
            "+---+-------+----------+---------+---------+------------+-------------+\n",
            "|  0|1069124|        ad|    false|      130|      Monday|           20|\n",
            "|  1|1119715|        ad|    false|       93|     Tuesday|           22|\n",
            "|  2|1144181|        ad|    false|       21|     Tuesday|           18|\n",
            "|  3|1435133|        ad|    false|      355|     Tuesday|           10|\n",
            "|  4|1015700|        ad|    false|      276|      Friday|           14|\n",
            "+---+-------+----------+---------+---------+------------+-------------+\n",
            "only showing top 5 rows\n",
            "\n"
          ]
        }
      ]
    },
    {
      "cell_type": "markdown",
      "source": [
        "## Análise Exploratória"
      ],
      "metadata": {
        "id": "KiKTUqLU1fvq"
      }
    },
    {
      "cell_type": "code",
      "source": [
        "from pyspark.sql import functions as F\n",
        "\n",
        "# taxas de conversão\n",
        "conversion_counts = df.filter(F.col(\"test group\").isin([\"ad\", \"psa\"])) \\\n",
        "    .groupBy(\"test group\") \\\n",
        "    .agg(\n",
        "        F.sum(F.col(\"converted\").cast(\"int\")).alias(\"conversions\"),\n",
        "        F.count(\"*\").alias(\"total_users\")\n",
        "    )\n",
        "\n",
        "results = conversion_counts.collect()\n",
        "\n",
        "data = {row['test group']: {'conversions': row['conversions'], 'total': row['total_users']} for row in results}\n",
        "\n",
        "ad_success = data['ad']['conversions']\n",
        "ad_total = data['ad']['total']\n",
        "psa_success = data['psa']['conversions']\n",
        "psa_total = data['psa']['total']\n",
        "\n",
        "ad_rate = ad_success / ad_total\n",
        "psa_rate = psa_success / psa_total\n",
        "\n",
        "# lift abs\n",
        "lift = ad_rate - psa_rate\n",
        "\n",
        "print(f\"Taxa de conversão AD: {ad_rate:.4f}\")\n",
        "print(f\"Taxa de conversão PSA: {psa_rate:.4f}\")\n",
        "print(f\"Lift absoluto (AD - PSA): {lift:.4f}\")"
      ],
      "metadata": {
        "colab": {
          "base_uri": "https://localhost:8080/"
        },
        "id": "ioP6aGwOzMYg",
        "outputId": "37dfa1b5-e34e-466b-8842-72990dd1a914"
      },
      "execution_count": null,
      "outputs": [
        {
          "output_type": "stream",
          "name": "stdout",
          "text": [
            "Taxa de conversão AD: 0.0255\n",
            "Taxa de conversão PSA: 0.0179\n",
            "Lift absoluto (AD - PSA): 0.0077\n"
          ]
        }
      ]
    },
    {
      "cell_type": "code",
      "source": [
        "from statsmodels.stats.proportion import proportions_ztest\n",
        "import math\n",
        "\n",
        "se = math.sqrt(\n",
        "    (ad_rate * (1 - ad_rate)) / ad_total +\n",
        "    (psa_rate * (1 - psa_rate)) / psa_total\n",
        ")\n",
        "\n",
        "# IC95%\n",
        "ci_lower = lift - 1.96 * se\n",
        "ci_upper = lift + 1.96 * se\n",
        "\n",
        "# Z-test\n",
        "successes = [ad_success, psa_success]\n",
        "totals = [ad_total, psa_total]\n",
        "z_stat, p_val = proportions_ztest(successes, totals)\n",
        "\n",
        "# lift relativo\n",
        "lift_relativo = (lift / psa_rate) * 100\n",
        "\n",
        "print(f\"Intervalo de confiança 95%: [{ci_lower:.4f}, {ci_upper:.4f}]\")\n",
        "print(f\"Lift relativo: {lift_relativo:.2f}%\")\n",
        "print(f\"Test Z: {z_stat:.4f}\")\n",
        "print(f\"P-value: {p_val:.4f}\")\n",
        "\n",
        "if p_val < 0.05:\n",
        "    print(\"p < 0.05 - Rejeita H₀: diferença significativa.\")\n",
        "else:\n",
        "    print(\"p ≥ 0.05 - Não rejeita H₀: sem diferença significativa.\")"
      ],
      "metadata": {
        "colab": {
          "base_uri": "https://localhost:8080/"
        },
        "id": "wb31Aod4zUBz",
        "outputId": "942189ef-f533-49ad-e540-c6ae9ec8667e"
      },
      "execution_count": null,
      "outputs": [
        {
          "output_type": "stream",
          "name": "stdout",
          "text": [
            "Intervalo de confiança 95%: [0.0060, 0.0094]\n",
            "Lift relativo: 43.09%\n",
            "Test Z: 7.3701\n",
            "P-value: 0.0000\n",
            "p < 0.05 - Rejeita H₀: diferença significativa.\n"
          ]
        }
      ]
    },
    {
      "cell_type": "code",
      "source": [
        "import matplotlib.pyplot as plt\n",
        "import seaborn as sns\n",
        "import numpy as np\n",
        "\n",
        "# gerando gráfico\n",
        "grupos = ['psa', 'ad']\n",
        "taxas = [psa_rate, ad_rate]\n",
        "\n",
        "se_ad = math.sqrt(ad_rate * (1 - ad_rate) / ad_total)\n",
        "se_psa = math.sqrt(psa_rate * (1 - psa_rate) / psa_total)\n",
        "errors = [1.96 * se_psa, 1.96 * se_ad]\n",
        "\n",
        "plt.figure(figsize=(6,5))\n",
        "ax = sns.barplot(x=grupos, y=taxas)\n",
        "\n",
        "# barra de erro - intervalo de confiança\n",
        "ax.errorbar(x=np.arange(len(grupos)), y=taxas, yerr=errors, fmt='none', c='black', capsize=5)\n",
        "\n",
        "plt.title(\"Taxa de Conversão por Grupo\")\n",
        "plt.ylabel(\"Taxa de Conversão\")\n",
        "plt.ylim(0, max(taxas) + 0.05)\n",
        "\n",
        "\n",
        "for i, v in enumerate(taxas):\n",
        "    ax.text(i, v + 0.005, f\"{v:.2%}\", ha='center', fontweight='bold')\n",
        "\n",
        "plt.show()"
      ],
      "metadata": {
        "colab": {
          "base_uri": "https://localhost:8080/",
          "height": 468
        },
        "id": "gEYkrGovzaux",
        "outputId": "be74792c-3a5b-4313-d50c-07c28916b5c6"
      },
      "execution_count": null,
      "outputs": [
        {
          "output_type": "display_data",
          "data": {
            "text/plain": [
              "<Figure size 600x500 with 1 Axes>"
            ],
            "image/png": "[encoded data removed]"
          },
          "metadata": {}
        }
      ]
    },
    {
      "cell_type": "markdown",
      "source": [
        "# Conclusão:\n",
        "Após testes indicados de análise, se percebe que a taxa de conversão do grupo AD teve efeito significativamente melhor que a do grupo PSA."
      ],
      "metadata": {
        "id": "4jft0F5WzfRQ"
      }
    }
  ]
}